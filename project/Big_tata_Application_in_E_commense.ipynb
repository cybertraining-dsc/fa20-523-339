{
  "nbformat": 4,
  "nbformat_minor": 0,
  "metadata": {
    "colab": {
      "name": "Big tata Application in E-commense.ipynb",
      "provenance": [],
      "collapsed_sections": []
    },
    "kernelspec": {
      "name": "python3",
      "display_name": "Python 3"
    }
  },
  "cells": [
    {
      "cell_type": "markdown",
      "metadata": {
        "id": "JDo-XYMFlO8B"
      },
      "source": [
        "#**Big Data Application in E-commense**\n",
        "##——Customer Behavior analysis and recommendation\n",
        "###Project Contributor : **Tao Liu**\n",
        "\n"
      ]
    },
    {
      "cell_type": "markdown",
      "metadata": {
        "id": "XlF3xhpklyRE"
      },
      "source": [
        "In this project, we will use [Amazon Review Data](http://deepyeti.ucsd.edu/jianmo/amazon/index.html) and perform different kind of data anlysis methods to analyze the customer behaviors for buying good and then give recommendation based on anlyze. "
      ]
    },
    {
      "cell_type": "markdown",
      "metadata": {
        "id": "mcq51c8qp5-X"
      },
      "source": [
        "##**Step 0** - Package import\n",
        "All the packages will be imported here."
      ]
    },
    {
      "cell_type": "code",
      "metadata": {
        "id": "8_RF3A-VlMXd"
      },
      "source": [
        "import numpy\n",
        "import sklearn\n",
        "import os\n",
        "import json\n",
        "import gzip\n",
        "import pandas as pd\n",
        "from urllib.request import urlopen"
      ],
      "execution_count": 1,
      "outputs": []
    },
    {
      "cell_type": "markdown",
      "metadata": {
        "id": "UOkCbwipoWqp"
      },
      "source": [
        "##**Step 1** - Data Implemtation and cleaning"
      ]
    },
    {
      "cell_type": "markdown",
      "metadata": {
        "id": "GlGT-UTmpgLc"
      },
      "source": [
        "We will start with Amazon Review Data implementation and cleaning them if possible.\n",
        "\n"
      ]
    },
    {
      "cell_type": "code",
      "metadata": {
        "id": "qUzdrHgNp1rf"
      },
      "source": [
        ""
      ],
      "execution_count": null,
      "outputs": []
    }
  ]
}