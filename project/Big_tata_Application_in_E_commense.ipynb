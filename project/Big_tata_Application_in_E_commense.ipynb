{
  "nbformat": 4,
  "nbformat_minor": 0,
  "metadata": {
    "colab": {
      "name": "Big tata Application in E-commense.ipynb",
      "provenance": [],
      "collapsed_sections": [],
      "toc_visible": true
    },
    "kernelspec": {
      "name": "python3",
      "display_name": "Python 3"
    }
  },
  "cells": [
    {
      "cell_type": "markdown",
      "metadata": {
        "id": "JDo-XYMFlO8B"
      },
      "source": [
        "#**Big Data Application in E-commense**\n",
        "##——Customer Behavior analysis and recommendation\n",
        "###Project Contributor : **Tao Liu**\n",
        "\n"
      ]
    },
    {
      "cell_type": "markdown",
      "metadata": {
        "id": "XlF3xhpklyRE"
      },
      "source": [
        "In this project, we will use [Amazon Review Data](http://deepyeti.ucsd.edu/jianmo/amazon/index.html) and perform different kind of data anlysis methods to analyze the customer behaviors for buying good and then give recommendation based on anlyze. "
      ]
    },
    {
      "cell_type": "markdown",
      "metadata": {
        "id": "mcq51c8qp5-X"
      },
      "source": [
        "##**Step 0** - Package import\n",
        "All the packages will be imported here."
      ]
    },
    {
      "cell_type": "code",
      "metadata": {
        "id": "8_RF3A-VlMXd"
      },
      "source": [
        "import numpy\n",
        "import sklearn\n",
        "import os\n",
        "import json\n",
        "import gzip\n",
        "import pandas as pd\n",
        "from urllib.request import urlopen\n",
        "import requests\n",
        "import array"
      ],
      "execution_count": 33,
      "outputs": []
    },
    {
      "cell_type": "markdown",
      "metadata": {
        "id": "UOkCbwipoWqp"
      },
      "source": [
        "##**Step 1** - Data Implemtation and cleaning"
      ]
    },
    {
      "cell_type": "markdown",
      "metadata": {
        "id": "GlGT-UTmpgLc"
      },
      "source": [
        "We will start with Amazon Review Data implementation and cleaning them if possible.\n",
        "\n"
      ]
    },
    {
      "cell_type": "code",
      "metadata": {
        "id": "k9iLNk-g2pom",
        "outputId": "f739aee0-edbd-4556-84a3-4faac3ab295c",
        "colab": {
          "base_uri": "https://localhost:8080/",
          "height": 204
        }
      },
      "source": [
        "!wget http://deepyeti.ucsd.edu/jianmo/amazon/metaFiles/meta_Gift_Cards.json.gz"
      ],
      "execution_count": 34,
      "outputs": [
        {
          "output_type": "stream",
          "text": [
            "--2020-10-19 17:22:02--  http://deepyeti.ucsd.edu/jianmo/amazon/metaFiles/meta_Gift_Cards.json.gz\n",
            "Resolving deepyeti.ucsd.edu (deepyeti.ucsd.edu)... 169.228.63.50\n",
            "Connecting to deepyeti.ucsd.edu (deepyeti.ucsd.edu)|169.228.63.50|:80... connected.\n",
            "HTTP request sent, awaiting response... 200 OK\n",
            "Length: 380174 (371K) [application/octet-stream]\n",
            "Saving to: ‘meta_Gift_Cards.json.gz.1’\n",
            "\n",
            "meta_Gift_Cards.jso 100%[===================>] 371.26K   708KB/s    in 0.5s    \n",
            "\n",
            "2020-10-19 17:22:02 (708 KB/s) - ‘meta_Gift_Cards.json.gz.1’ saved [380174/380174]\n",
            "\n"
          ],
          "name": "stdout"
        }
      ]
    },
    {
      "cell_type": "code",
      "metadata": {
        "id": "qUzdrHgNp1rf",
        "outputId": "a452f138-2cec-4232-9fdb-b6d04fe5afb6",
        "colab": {
          "base_uri": "https://localhost:8080/",
          "height": 255
        }
      },
      "source": [
        "def parse(path):\n",
        "  g = gzip.open(path, 'r')\n",
        "  for l in g:\n",
        "    yield json.dumps(eval(l))\n",
        "def getDF(path):\n",
        "  i = 0\n",
        "  df = {}\n",
        "  for d in parse(path):\n",
        "    df[i] = d\n",
        "    i += 1\n",
        "  return pd.DataFrame.from_dict(df, orient='index')\n",
        "def readImageFeatures(path):\n",
        "  f = open(path, 'rb')\n",
        "  while True:\n",
        "    asin = f.read(10)\n",
        "    if asin == '': break\n",
        "    a = array.array('f')\n",
        "    a.fromfile(f, 4096)\n",
        "    yield asin, a.tolist()\n",
        "f = open(\"output.strict\", 'w')\n",
        "for l in parse(\"meta_Gift_Cards.json.gz\"):\n",
        "  (f.write(l + '\\n'))\n",
        "df = getDF('meta_Gift_Cards.json.gz')\n",
        "print(df)"
      ],
      "execution_count": 39,
      "outputs": [
        {
          "output_type": "stream",
          "text": [
            "                                                      0\n",
            "0     {\"category\": [\"Gift Cards\", \"Gift Cards\"], \"te...\n",
            "1     {\"category\": [\"Gift Cards\", \"Gift Cards\"], \"te...\n",
            "2     {\"category\": [\"Gift Cards\", \"Gift Cards\"], \"te...\n",
            "3     {\"category\": [\"Gift Cards\", \"Gift Cards\"], \"te...\n",
            "4     {\"category\": [\"Gift Cards\", \"Gift Cards\"], \"te...\n",
            "...                                                 ...\n",
            "1542  {\"category\": [\"Gift Cards\", \"Gift Cards\"], \"te...\n",
            "1543  {\"category\": [\"Gift Cards\", \"Gift Cards\"], \"te...\n",
            "1544  {\"category\": [\"Gift Cards\", \"Gift Cards\"], \"te...\n",
            "1545  {\"category\": [\"Gift Cards\", \"Gift Cards\"], \"te...\n",
            "1546  {\"category\": [\"Gift Cards\", \"Gift Cards\"], \"te...\n",
            "\n",
            "[1547 rows x 1 columns]\n"
          ],
          "name": "stdout"
        }
      ]
    }
  ]
}